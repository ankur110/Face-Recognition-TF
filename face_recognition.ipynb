{
 "cells": [
  {
   "cell_type": "code",
   "execution_count": null,
   "id": "a3feb9dd-7d4f-45c2-9529-383d7dc41c74",
   "metadata": {},
   "outputs": [],
   "source": [
    "# Import necessary libraries\n",
    "import os\n",
    "import cv2\n",
    "import numpy as np\n",
    "import matplotlib.pyplot as plt\n",
    "from mtcnn import MTCNN\n",
    "from keras_facenet import FaceNet\n",
    "from numpy.linalg import norm\n",
    "detector = MTCNN() #Initialize MTCNN detector for face detection\n",
    "embedder = FaceNet() # Initialize FaceNet embedder for facial recognition"
   ]
  },
  {
   "cell_type": "code",
   "execution_count": null,
   "id": "0cc9c884-4679-46e0-b32d-294e7870b3b4",
   "metadata": {},
   "outputs": [],
   "source": [
    "# Defining function to provide embedding of face of an individual\n",
    "def img_to_embedding(image_path):\n",
    "    img=cv2.imread(image_path)\n",
    "    img_rgb=cv2.cvtColor(img,cv2.COLOR_BGR2RGB)\n",
    "    faces=detector.detect_faces(img_rgb)[0]\n",
    "        \n",
    "    x,y,w,h=faces['box']\n",
    "    x1,y1=abs(x),abs(y)\n",
    "    fi=img_rgb[y:y+h,x:x+w]\n",
    "    face=cv2.resize(fi,(160,160))\n",
    "    face = np.expand_dims(face, axis=0)\n",
    "    embedding = embedder.embeddings(face)\n",
    "    return embedding[0]"
   ]
  },
  {
   "cell_type": "code",
   "execution_count": null,
   "id": "8b0d77ac-49e2-43c5-9d52-ac37c64d8a56",
   "metadata": {
    "scrolled": true
   },
   "outputs": [],
   "source": [
    "# creating database to store the name as key and respective facial embeddings as value.\n",
    "database = {} \n",
    "\n",
    "database[\"agastya\"] = img_to_embedding(\"database/agastya.jpeg\")\n",
    "database[\"anu_son\"] = img_to_embedding(\"database/anu_son.jpeg\")\n",
    "database[\"raj\"] = img_to_embedding(\"database/raj.jpeg\")\n",
    "database[\"resamia\"] = img_to_embedding(\"database/ris3.jpg\")\n",
    "database[\"tingu\"] = img_to_embedding(\"database/pikachu.jpg\")\n",
    "database[\"ash\"] = img_to_embedding(\"database/ash3.jpg\")\n",
    "database[\"mittal\"] = img_to_embedding(\"database/ayush mittal.jpg\")\n",
    "database[\"alok\"] = img_to_embedding(\"database/alok.jpg\")\n",
    "database[\"nishant\"] = img_to_embedding(\"database/nishant.jpg\")"
   ]
  },
  {
   "cell_type": "code",
   "execution_count": null,
   "id": "bfd767ea-86b6-4e03-9170-ba56d63be2ea",
   "metadata": {},
   "outputs": [],
   "source": [
    "# Defining function to provide embeddings of faces detected in an image\n",
    "def multifaces_embedding(img_path):\n",
    "    img=cv2.imread(img_path)\n",
    "    img_rgb=cv2.cvtColor(img,cv2.COLOR_BGR2RGB)\n",
    "    faces=detector.detect_faces(img_rgb) # Detected every faces in an image\n",
    "    embeddings=[]\n",
    "    boxes=[]\n",
    "    for face in faces:\n",
    "        x,y,w,h=face['box']\n",
    "        x,y=abs(x),abs(y)\n",
    "        fi=img_rgb[y:y+h,x:x+w]\n",
    "        fi=cv2.resize(fi, (160, 160))\n",
    "        fi = np.expand_dims(fi, axis=0)\n",
    "        embedding = embedder.embeddings(fi) # Finding embedding of detected face\n",
    "        embeddings.append(embedding[0])\n",
    "        boxes.append((x, y, w, h))\n",
    "    return embeddings,boxes,img_rgb"
   ]
  },
  {
   "cell_type": "code",
   "execution_count": null,
   "id": "9e6807fd-cbeb-4cf0-983a-bd0a5bb94db4",
   "metadata": {},
   "outputs": [],
   "source": [
    "# Created this function to draw boxes around the faces and also shows names of recognised individuals.\n",
    "def draw_boxes(image_rgb, recognized_boxes):\n",
    "    for name, (x, y, width, height) in recognized_boxes:\n",
    "        cv2.rectangle(image_rgb, (x, y), (x+width, y+height), (0, 255, 0), 2)\n",
    "        cv2.putText(image_rgb, name, (x, y-10), cv2.FONT_HERSHEY_SIMPLEX, 0.9, (0, 255, 0), 2)\n",
    "    return image_rgb"
   ]
  },
  {
   "cell_type": "code",
   "execution_count": null,
   "id": "8c7aa759-7988-4064-a246-4c71a634979d",
   "metadata": {},
   "outputs": [],
   "source": [
    "# using cosine similarity to find simalarities between two embeddings.\n",
    "def cosine_similarity(embedding1, embedding2):\n",
    "    a_b = np.dot(embedding1, embedding2)\n",
    "    a = norm(embedding1)\n",
    "    b= norm(embedding2)\n",
    "    return a_b / (a * b)\n"
   ]
  },
  {
   "cell_type": "code",
   "execution_count": null,
   "id": "017942ec-0857-4e8c-b47f-b7cd6ac1d6f5",
   "metadata": {},
   "outputs": [],
   "source": [
    "# Defining a function to recognize face from all the images of test directory\n",
    "def Recognize_Faces(test_dir, database, threshold=0.7):\n",
    "    for filename in os.listdir(test_dir):\n",
    "        photo_path = os.path.join(test_dir, filename)\n",
    "        \n",
    "        embeddings, boxes, image_rgb = multifaces_embedding(photo_path)\n",
    "        \n",
    "        recognized_boxes = []\n",
    "        \n",
    "        for embedding, box in zip(embeddings, boxes):\n",
    "            for name, db_embedding in database.items():\n",
    "                if cosine_similarity(embedding, db_embedding)>threshold:\n",
    "                    recognized_boxes.append((name, box))\n",
    "                    break\n",
    "\n",
    "        image_with_boxes = draw_boxes(image_rgb, recognized_boxes)\n",
    "        \n",
    "        # Display the image\n",
    "        plt.figure(figsize=(10, 8), dpi=500)\n",
    "        plt.imshow(image_with_boxes)\n",
    "        plt.axis('off')\n",
    "        plt.show()\n",
    "        \n",
    "\n"
   ]
  },
  {
   "cell_type": "code",
   "execution_count": null,
   "id": "2ba6f47c-e2f0-498d-b6ca-a43dbb652fc0",
   "metadata": {},
   "outputs": [],
   "source": [
    "Recognize_Faces('test1', database)"
   ]
  }
 ],
 "metadata": {
  "kernelspec": {
   "display_name": "Python 3 (ipykernel)",
   "language": "python",
   "name": "python3"
  },
  "language_info": {
   "codemirror_mode": {
    "name": "ipython",
    "version": 3
   },
   "file_extension": ".py",
   "mimetype": "text/x-python",
   "name": "python",
   "nbconvert_exporter": "python",
   "pygments_lexer": "ipython3",
   "version": "3.12.3"
  }
 },
 "nbformat": 4,
 "nbformat_minor": 5
}
